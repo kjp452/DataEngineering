{
 "cells": [
  {
   "cell_type": "code",
   "execution_count": 2,
   "metadata": {},
   "outputs": [
    {
     "name": "stderr",
     "output_type": "stream",
     "text": [
      "<ipython-input-2-0c95b2fc7292>:3: FutureWarning: The pandas.datetime class is deprecated and will be removed from pandas in a future version. Import from datetime module instead.\n",
      "  from pandas import datetime\n"
     ]
    }
   ],
   "source": [
    "import pandas as pd\n",
    "import numpy as np\n",
    "from pandas import datetime\n",
    "from matplotlib import pyplot as plt"
   ]
  },
  {
   "cell_type": "code",
   "execution_count": 3,
   "metadata": {},
   "outputs": [],
   "source": [
    "def parser(x):\n",
    "    return datetime.strptime(x, '%Y-%m-%d %H:%M:%S')\n",
    "\n",
    "input_file = './data/AirQualityUCI_refined.csv'\n",
    "\n",
    "df = pd.read_csv(input_file,\n",
    "                 index_col=[0],\n",
    "                 parse_dates=[0],\n",
    "                 date_parser=parser)"
   ]
  },
  {
   "cell_type": "code",
   "execution_count": 5,
   "metadata": {},
   "outputs": [
    {
     "name": "stdout",
     "output_type": "stream",
     "text": [
      "Using matplotlib backend: Qt5Agg\n"
     ]
    }
   ],
   "source": [
    "# Visualization setup\n",
    "%matplotlib\n",
    "from matplotlib import pyplot as plt\n",
    "import seaborn; seaborn.set() # set plot styles\n",
    "%config InlineBackend.figure_format = 'svg'\n",
    "plt.rcParams['figure.figsize'] = [10, 5]\n",
    "plt.ion() #enable the interactive mode"
   ]
  },
  {
   "cell_type": "code",
   "execution_count": 6,
   "metadata": {},
   "outputs": [
    {
     "data": {
      "text/plain": [
       "<matplotlib.axes._subplots.AxesSubplot at 0x1c679c54550>"
      ]
     },
     "execution_count": 6,
     "metadata": {},
     "output_type": "execute_result"
    }
   ],
   "source": [
    "# Visualize the 'CO(GT)' variable\n",
    "df['CO(GT)'].plot()"
   ]
  },
  {
   "cell_type": "code",
   "execution_count": 7,
   "metadata": {},
   "outputs": [],
   "source": [
    "# Linear interpolation\n",
    "co = df['CO(GT)'].copy()\n",
    "co.interpolate(inplace=True) # == co.interpolate(inplace=True)"
   ]
  },
  {
   "cell_type": "code",
   "execution_count": 8,
   "metadata": {},
   "outputs": [
    {
     "data": {
      "text/plain": [
       "<matplotlib.legend.Legend at 0x1c67c8486a0>"
      ]
     },
     "execution_count": 8,
     "metadata": {},
     "output_type": "execute_result"
    }
   ],
   "source": [
    "# Visualize original and imputed data\n",
    "plt.plot(df['CO(GT)'], label = 'original', zorder = 2)\n",
    "plt.plot(co, label = 'linear interpolation', zorder = 1)\n",
    "plt.legend(loc='best')"
   ]
  },
  {
   "cell_type": "code",
   "execution_count": 9,
   "metadata": {},
   "outputs": [
    {
     "data": {
      "text/plain": [
       "Text(0.5, 0, 'CO(GT)')"
      ]
     },
     "execution_count": 9,
     "metadata": {},
     "output_type": "execute_result"
    }
   ],
   "source": [
    "# Detecting outliers using Boxplot\n",
    "plt.boxplot(co)\n",
    "plt.title(\"Detecting outliers using Boxplot\")\n",
    "plt.xlabel('CO(GT)')"
   ]
  },
  {
   "cell_type": "code",
   "execution_count": 10,
   "metadata": {},
   "outputs": [
    {
     "name": "stdout",
     "output_type": "stream",
     "text": [
      "                 CO(GT)  PT08.S1(CO)  PT08.S2(NMHC)   NOx(GT)  PT08.S3(NOx)  \\\n",
      "CO(GT)         1.000000     0.877203       0.914973  0.792557     -0.701703   \n",
      "PT08.S1(CO)    0.877203     1.000000       0.892964  0.713654     -0.771938   \n",
      "PT08.S2(NMHC)  0.914973     0.892964       1.000000  0.704435     -0.796703   \n",
      "NOx(GT)        0.792557     0.713654       0.704435  1.000000     -0.655707   \n",
      "PT08.S3(NOx)  -0.701703    -0.771938      -0.796703 -0.655707      1.000000   \n",
      "NO2(GT)        0.679262     0.641529       0.646245  0.763111     -0.652083   \n",
      "PT08.S4(NO2)   0.639470     0.682881       0.777254  0.233731     -0.538468   \n",
      "PT08.S5(O3)    0.851403     0.899324       0.880578  0.787046     -0.796569   \n",
      "RH             0.040218     0.114606      -0.090380  0.221032     -0.056740   \n",
      "AH             0.065809     0.135324       0.186933 -0.149323     -0.232017   \n",
      "C6H6(GT)       0.845144     0.883795       0.981950  0.626638     -0.735744   \n",
      "\n",
      "                NO2(GT)  PT08.S4(NO2)  PT08.S5(O3)        RH        AH  \\\n",
      "CO(GT)         0.679262      0.639470     0.851403  0.040218  0.065809   \n",
      "PT08.S1(CO)    0.641529      0.682881     0.899324  0.114606  0.135324   \n",
      "PT08.S2(NMHC)  0.646245      0.777254     0.880578 -0.090380  0.186933   \n",
      "NOx(GT)        0.763111      0.233731     0.787046  0.221032 -0.149323   \n",
      "PT08.S3(NOx)  -0.652083     -0.538468    -0.796569 -0.056740 -0.232017   \n",
      "NO2(GT)        1.000000      0.157360     0.708128 -0.091759 -0.335022   \n",
      "PT08.S4(NO2)   0.157360      1.000000     0.591144 -0.032188  0.629641   \n",
      "PT08.S5(O3)    0.708128      0.591144     1.000000  0.124956  0.070751   \n",
      "RH            -0.091759     -0.032188     0.124956  1.000000  0.167971   \n",
      "AH            -0.335022      0.629641     0.070751  0.167971  1.000000   \n",
      "C6H6(GT)       0.544039      0.765731     0.865689 -0.061681  0.167972   \n",
      "\n",
      "               C6H6(GT)  \n",
      "CO(GT)         0.845144  \n",
      "PT08.S1(CO)    0.883795  \n",
      "PT08.S2(NMHC)  0.981950  \n",
      "NOx(GT)        0.626638  \n",
      "PT08.S3(NOx)  -0.735744  \n",
      "NO2(GT)        0.544039  \n",
      "PT08.S4(NO2)   0.765731  \n",
      "PT08.S5(O3)    0.865689  \n",
      "RH            -0.061681  \n",
      "AH             0.167972  \n",
      "C6H6(GT)       1.000000  \n"
     ]
    }
   ],
   "source": [
    "# Calculate correlations between variables\n",
    "corr_matrix = df.corr()\n",
    "print(corr_matrix)"
   ]
  },
  {
   "cell_type": "code",
   "execution_count": 12,
   "metadata": {},
   "outputs": [],
   "source": [
    "# Choose the least correlated variable\n",
    "rh = df['RH'].copy().interpolate() # RH(Relative Humidity)"
   ]
  },
  {
   "cell_type": "code",
   "execution_count": 13,
   "metadata": {},
   "outputs": [
    {
     "data": {
      "text/plain": [
       "Text(0, 0.5, 'RH')"
      ]
     },
     "execution_count": 13,
     "metadata": {},
     "output_type": "execute_result"
    }
   ],
   "source": [
    "# Visualize a scatter plot(CO, RH)\n",
    "plt.scatter(co, rh, s=12, c='black')\n",
    "plt.xlabel('CO(GT)')\n",
    "plt.ylabel('RH')"
   ]
  },
  {
   "cell_type": "code",
   "execution_count": 14,
   "metadata": {},
   "outputs": [],
   "source": [
    "# Choose the most correlated variable\n",
    "nmhc = df['PT08.S2(NMHC)'].copy().interpolate()"
   ]
  },
  {
   "cell_type": "code",
   "execution_count": 15,
   "metadata": {},
   "outputs": [
    {
     "data": {
      "text/plain": [
       "Text(0, 0.5, 'PT08.S2(NMHC)')"
      ]
     },
     "execution_count": 15,
     "metadata": {},
     "output_type": "execute_result"
    }
   ],
   "source": [
    "# Visualize a scatter plot(CO, NMHC)\n",
    "plt.scatter(co, nmhc, s=12, c='black')\n",
    "plt.xlabel('CO(GT)')\n",
    "plt.ylabel('PT08.S2(NMHC)')"
   ]
  },
  {
   "cell_type": "code",
   "execution_count": 17,
   "metadata": {},
   "outputs": [
    {
     "name": "stdout",
     "output_type": "stream",
     "text": [
      "1.1 1.8 2.9\n"
     ]
    }
   ],
   "source": [
    "\"\"\"\n",
    "IQR-based Outlier Detection\n",
    "\"\"\"\n",
    "\n",
    "# Q1, Q2(median), Q3\n",
    "q1 = co.quantile(0.25)# 25% value\n",
    "median = co.quantile(0.5)    \n",
    "q3 = co.quantile(0.75)\n",
    "print(q1, median, q3)"
   ]
  },
  {
   "cell_type": "code",
   "execution_count": 18,
   "metadata": {},
   "outputs": [
    {
     "name": "stdout",
     "output_type": "stream",
     "text": [
      "1.7999999999999998 5.6 -1.5999999999999996\n"
     ]
    }
   ],
   "source": [
    "# IQR, upper_fence, lower_fence\n",
    "iqr = q3 - q1\n",
    "upper_fence = q3 + 1.5*iqr\n",
    "lower_fence = q1 - 1.5*iqr\n",
    "print(iqr, upper_fence, lower_fence)"
   ]
  },
  {
   "cell_type": "code",
   "execution_count": 20,
   "metadata": {},
   "outputs": [
    {
     "name": "stdout",
     "output_type": "stream",
     "text": [
      "Datetime\n",
      "2004-03-11 19:00:00    6.9\n",
      "2004-03-11 20:00:00    6.1\n",
      "2004-03-12 20:00:00    6.6\n",
      "2004-03-14 20:00:00    5.9\n",
      "2004-03-15 09:00:00    8.1\n",
      "                      ... \n",
      "2005-03-23 19:00:00    6.2\n",
      "2005-03-23 20:00:00    7.2\n",
      "2005-03-24 19:00:00    5.9\n",
      "2005-03-24 20:00:00    7.5\n",
      "2005-03-25 19:00:00    5.7\n",
      "Name: CO(GT), Length: 224, dtype: float64\n"
     ]
    }
   ],
   "source": [
    "# Filtering the outliers\n",
    "outliers = co.loc[(co > upper_fence) | (co < lower_fence)]\n",
    "print(outliers)                "
   ]
  },
  {
   "cell_type": "code",
   "execution_count": 22,
   "metadata": {},
   "outputs": [
    {
     "data": {
      "text/plain": [
       "array([False, False, False, ..., False, False, False])"
      ]
     },
     "execution_count": 22,
     "metadata": {},
     "output_type": "execute_result"
    }
   ],
   "source": [
    "# Mask for outliers\n",
    "mask = co.index.isin(outliers.index)\n",
    "mask"
   ]
  },
  {
   "cell_type": "code",
   "execution_count": 23,
   "metadata": {},
   "outputs": [
    {
     "data": {
      "text/plain": [
       "<matplotlib.legend.Legend at 0x1c67a573e20>"
      ]
     },
     "execution_count": 23,
     "metadata": {},
     "output_type": "execute_result"
    }
   ],
   "source": [
    "# Visualize the normal data and outliers\n",
    "plt.plot(co[~mask], label = 'normal', color='blue',\n",
    "        marker = 'o', markersize=3, linestyle = 'None')\n",
    "plt.plot(outliers, label = 'outliers', color = 'red',\n",
    "        marker = 'x', markersize = 3, linestyle = 'None')\n",
    "plt.legend(loc='best')"
   ]
  },
  {
   "cell_type": "code",
   "execution_count": 25,
   "metadata": {},
   "outputs": [
    {
     "name": "stdout",
     "output_type": "stream",
     "text": [
      "Datetime\n",
      "2004-03-10 18:00:00    2.6\n",
      "2004-03-10 19:00:00    2.0\n",
      "2004-03-10 20:00:00    2.2\n",
      "2004-03-10 21:00:00    2.2\n",
      "2004-03-10 22:00:00    1.6\n",
      "                      ... \n",
      "2005-04-04 10:00:00    3.1\n",
      "2005-04-04 11:00:00    2.4\n",
      "2005-04-04 12:00:00    2.4\n",
      "2005-04-04 13:00:00    2.1\n",
      "2005-04-04 14:00:00    2.2\n",
      "Name: CO(GT), Length: 9357, dtype: float64\n"
     ]
    },
    {
     "data": {
      "text/plain": [
       "<matplotlib.axes._subplots.AxesSubplot at 0x1c67a5b17c0>"
      ]
     },
     "execution_count": 25,
     "metadata": {},
     "output_type": "execute_result"
    }
   ],
   "source": [
    "# Removing the outliers\n",
    "co_refind = co.copy()\n",
    "co_refind[mask] = np.nan\n",
    "print(co_refind)\n",
    "co_refind.plot()"
   ]
  },
  {
   "cell_type": "code",
   "execution_count": 27,
   "metadata": {},
   "outputs": [
    {
     "data": {
      "text/plain": [
       "<matplotlib.axes._subplots.AxesSubplot at 0x1c67a51bee0>"
      ]
     },
     "execution_count": 27,
     "metadata": {},
     "output_type": "execute_result"
    }
   ],
   "source": [
    "\"\"\"\n",
    "Detecting Outliers with Z-Scores\n",
    "\"\"\"\n",
    "\n",
    "# Visualize the distribution of the 'CO(GT)' variable\n",
    "import seaborn as sns\n",
    "sns.distplot(co)"
   ]
  },
  {
   "cell_type": "code",
   "execution_count": 28,
   "metadata": {},
   "outputs": [
    {
     "name": "stdout",
     "output_type": "stream",
     "text": [
      "2.126146200705357 1.4369815748596482\n"
     ]
    }
   ],
   "source": [
    "# Mean, Standard deviation\n",
    "mean = np.mean(co)\n",
    "std = np.std(co)\n",
    "print(mean, std)"
   ]
  },
  {
   "cell_type": "code",
   "execution_count": 29,
   "metadata": {},
   "outputs": [
    {
     "name": "stdout",
     "output_type": "stream",
     "text": [
      "3.3221398818289734\n",
      "3.113368937755246\n",
      "4.157223658123882\n",
      "4.087633343432639\n",
      "3.0437786230640036\n",
      "3.113368937755246\n",
      "3.8092720846676698\n",
      "3.182959252446488\n",
      "3.113368937755246\n",
      "3.600501140593942\n",
      "3.5309108259027\n",
      "3.0437786230640036\n",
      "3.0437786230640036\n",
      "3.182959252446488\n",
      "3.0437786230640036\n",
      "3.600501140593942\n",
      "3.182959252446488\n",
      "3.7396817699764275\n",
      "3.0437786230640036\n",
      "3.182959252446488\n",
      "3.3917301965202156\n",
      "4.087633343432639\n",
      "3.878862399358912\n",
      "3.2525495671377302\n",
      "4.36599460219761\n",
      "3.2525495671377302\n",
      "4.018043028741397\n",
      "4.36599460219761\n",
      "4.087633343432639\n",
      "4.36599460219761\n",
      "5.131488063801275\n",
      "3.0437786230640036\n",
      "3.113368937755246\n",
      "3.7396817699764275\n",
      "3.2525495671377302\n",
      "4.018043028741397\n",
      "4.087633343432639\n",
      "4.922717119727547\n",
      "3.3917301965202156\n",
      "3.786075313103922\n",
      "4.180420429687629\n",
      "4.574765546271336\n",
      "4.157223658123882\n",
      "4.087633343432639\n",
      "3.113368937755246\n",
      "3.2525495671377302\n",
      "3.9484527140501537\n",
      "5.618620266639971\n",
      "3.113368937755246\n",
      "3.7396817699764275\n",
      "3.5309108259027\n",
      "4.296404287506367\n",
      "4.505175231580093\n",
      "3.3221398818289734\n",
      "3.0437786230640036\n",
      "3.113368937755246\n",
      "3.600501140593942\n",
      "3.600501140593942\n",
      "5.618620266639971\n",
      "6.801655616391093\n",
      "6.523294357626123\n",
      "4.296404287506367\n",
      "3.2525495671377302\n",
      "4.36599460219761\n",
      "3.878862399358912\n",
      "5.54902995194873\n",
      "3.878862399358912\n",
      "4.157223658123882\n",
      "3.113368937755246\n",
      "3.2525495671377302\n",
      "3.7396817699764275\n",
      "3.878862399358912\n",
      "5.061897749110033\n",
      "3.9484527140501537\n",
      "3.113368937755246\n",
      "3.3221398818289734\n",
      "5.409849322566245\n",
      "3.3221398818289734\n",
      "3.6700914552851853\n",
      "4.992307434418791\n",
      "3.6700914552851853\n",
      "3.113368937755246\n",
      "3.600501140593942\n",
      "3.7396817699764275\n",
      "4.505175231580093\n",
      "4.853126805036306\n",
      "4.505175231580093\n",
      "3.113368937755246\n",
      "4.4355849168888515\n",
      "4.574765546271336\n",
      "4.853126805036306\n",
      "3.5309108259027\n",
      "3.113368937755246\n",
      "3.0437786230640036\n",
      "3.3221398818289734\n",
      "4.018043028741397\n",
      "3.182959252446488\n",
      "3.2525495671377302\n",
      "3.182959252446488\n",
      "3.2525495671377302\n",
      "4.505175231580093\n",
      "4.574765546271336\n",
      "3.2525495671377302\n",
      "3.2525495671377302\n",
      "3.182959252446488\n",
      "3.182959252446488\n",
      "4.36599460219761\n",
      "3.461320511211458\n",
      "3.113368937755246\n",
      "3.0437786230640036\n",
      "3.461320511211458\n",
      "3.0437786230640036\n",
      "3.0437786230640036\n",
      "3.6700914552851853\n",
      "3.5309108259027\n",
      "3.7396817699764275\n"
     ]
    }
   ],
   "source": [
    "outliers = []\n",
    "thres = 3 # z-Score threshold\n",
    "\n",
    "for i in co:\n",
    "    z_score = (i-mean) / std\n",
    "    if(np.abs(z_score) > thres):\n",
    "        print(z_score)\n",
    "        outliers.append(i)"
   ]
  },
  {
   "cell_type": "code",
   "execution_count": 30,
   "metadata": {},
   "outputs": [],
   "source": [
    "# Simplified version of filltering outliers\n",
    "outliers = co.loc[np.abs((co - mean)/std > 3)].copy()"
   ]
  },
  {
   "cell_type": "code",
   "execution_count": 34,
   "metadata": {},
   "outputs": [
    {
     "data": {
      "text/plain": [
       "array([False, False, False, ..., False, False, False])"
      ]
     },
     "execution_count": 34,
     "metadata": {},
     "output_type": "execute_result"
    }
   ],
   "source": [
    "# Mask for outliers\n",
    "mask = co.index.isin(outliers.index)\n",
    "mask"
   ]
  },
  {
   "cell_type": "code",
   "execution_count": 36,
   "metadata": {},
   "outputs": [
    {
     "data": {
      "text/plain": [
       "<matplotlib.legend.Legend at 0x1c6014ac820>"
      ]
     },
     "execution_count": 36,
     "metadata": {},
     "output_type": "execute_result"
    }
   ],
   "source": [
    "# Comparison of distributions before/after outlier removal\n",
    "sns.distplot(co, axlabel='CO(GT)', label='original')\n",
    "sns.distplot(co[~mask], label='outliers removed')\n",
    "plt.legend(loc='best')"
   ]
  },
  {
   "cell_type": "code",
   "execution_count": 38,
   "metadata": {},
   "outputs": [
    {
     "data": {
      "text/plain": [
       "<matplotlib.axes._subplots.AxesSubplot at 0x1c6015d62b0>"
      ]
     },
     "execution_count": 38,
     "metadata": {},
     "output_type": "execute_result"
    }
   ],
   "source": [
    "# [exer] Adjust thres\n",
    "\n",
    "# Flooring and Capping\n",
    "floor = co.quantile(0.1)\n",
    "cap = co.quantile(0.9)\n",
    "\n",
    "co.loc[co < floor] = floor\n",
    "co.loc[co > cap] = cap\n",
    "\n",
    "# Visualize the result\n",
    "co.plot()"
   ]
  }
 ],
 "metadata": {
  "kernelspec": {
   "display_name": "Python 3",
   "language": "python",
   "name": "python3"
  },
  "language_info": {
   "codemirror_mode": {
    "name": "ipython",
    "version": 3
   },
   "file_extension": ".py",
   "mimetype": "text/x-python",
   "name": "python",
   "nbconvert_exporter": "python",
   "pygments_lexer": "ipython3",
   "version": "3.8.3"
  }
 },
 "nbformat": 4,
 "nbformat_minor": 4
}
