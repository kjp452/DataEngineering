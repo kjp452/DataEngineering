{
 "cells": [
  {
   "cell_type": "code",
   "execution_count": 2,
   "metadata": {},
   "outputs": [],
   "source": [
    "import pandas as pd\n",
    "import numpy as np"
   ]
  },
  {
   "cell_type": "code",
   "execution_count": 3,
   "metadata": {},
   "outputs": [
    {
     "name": "stdout",
     "output_type": "stream",
     "text": [
      "[[1 2 3]\n",
      " [4 5 6]\n",
      " [7 8 9]]\n"
     ]
    }
   ],
   "source": [
    "\"\"\"\n",
    "    numpy.concatenate()\n",
    "\"\"\"\n",
    "\n",
    "x = [1,2,3]\n",
    "y = [4,5,6]\n",
    "z = [7,8,9]\n",
    "\n",
    "np.concatenate([x,y,z])\n",
    "# vstack () : vertically\n",
    "# hstack () : horizen\n",
    "\n",
    "print(np.vstack([x, y, z]))"
   ]
  },
  {
   "cell_type": "code",
   "execution_count": 3,
   "metadata": {},
   "outputs": [
    {
     "name": "stdout",
     "output_type": "stream",
     "text": [
      "4    D\n",
      "5    E\n",
      "6    F\n",
      "1    A\n",
      "2    B\n",
      "3    C\n",
      "dtype: object\n"
     ]
    }
   ],
   "source": [
    "\"\"\"\n",
    "    Pandas.concat()\n",
    "\"\"\"\n",
    "\n",
    "ser1 = pd.Series(['A','B','C'], index=[1, 2, 3])\n",
    "ser2 = pd.Series(['D','E','F'], index=[4, 5, 6])\n",
    "\n",
    "pd.concat([ser1, ser2])\n",
    "\n",
    "# Simply concatenate the two Series objects\n",
    "print(pd.concat([ser2, ser1]))"
   ]
  },
  {
   "cell_type": "code",
   "execution_count": 4,
   "metadata": {},
   "outputs": [
    {
     "data": {
      "text/html": [
       "<div>\n",
       "<style scoped>\n",
       "    .dataframe tbody tr th:only-of-type {\n",
       "        vertical-align: middle;\n",
       "    }\n",
       "\n",
       "    .dataframe tbody tr th {\n",
       "        vertical-align: top;\n",
       "    }\n",
       "\n",
       "    .dataframe thead th {\n",
       "        text-align: right;\n",
       "    }\n",
       "</style>\n",
       "<table border=\"1\" class=\"dataframe\">\n",
       "  <thead>\n",
       "    <tr style=\"text-align: right;\">\n",
       "      <th></th>\n",
       "      <th>A</th>\n",
       "      <th>B</th>\n",
       "      <th>C</th>\n",
       "    </tr>\n",
       "  </thead>\n",
       "  <tbody>\n",
       "    <tr>\n",
       "      <th>1</th>\n",
       "      <td>A1</td>\n",
       "      <td>B1</td>\n",
       "      <td>C1</td>\n",
       "    </tr>\n",
       "    <tr>\n",
       "      <th>2</th>\n",
       "      <td>A2</td>\n",
       "      <td>B2</td>\n",
       "      <td>C2</td>\n",
       "    </tr>\n",
       "  </tbody>\n",
       "</table>\n",
       "</div>"
      ],
      "text/plain": [
       "    A   B   C\n",
       "1  A1  B1  C1\n",
       "2  A2  B2  C2"
      ]
     },
     "execution_count": 4,
     "metadata": {},
     "output_type": "execute_result"
    }
   ],
   "source": [
    "# make_df(): create a DataFrame object\n",
    "def make_df(cols, ind):\n",
    "    data = {c: [str(c) + str(i) for i in ind] for c in cols}\n",
    "    \n",
    "    return pd.DataFrame(data, ind)\n",
    "\n",
    "make_df('ABC', [1,2])"
   ]
  },
  {
   "cell_type": "code",
   "execution_count": 5,
   "metadata": {},
   "outputs": [
    {
     "name": "stdout",
     "output_type": "stream",
     "text": [
      "    A   B\n",
      "1  A1  B1\n",
      "2  A2  B2 \n",
      "\n",
      "    A   B\n",
      "3  A3  B3\n",
      "4  A4  B4 \n",
      "\n",
      "    A   B\n",
      "1  A1  B1\n",
      "2  A2  B2\n",
      "3  A3  B3\n",
      "4  A4  B4\n"
     ]
    }
   ],
   "source": [
    "#Concatenate the two DataFrame objects\n",
    "\n",
    "df1 = make_df('AB', [1, 2])\n",
    "df2 = make_df('AB', [3, 4])\n",
    "\n",
    "print(df1, '\\n')\n",
    "print(df2, '\\n')\n",
    "\n",
    "print(pd.concat([df1,df2]))"
   ]
  },
  {
   "cell_type": "code",
   "execution_count": 10,
   "metadata": {},
   "outputs": [
    {
     "name": "stdout",
     "output_type": "stream",
     "text": [
      "    A   B\n",
      "0  A0  B0\n",
      "1  A1  B1 \n",
      "\n",
      "    C   D\n",
      "0  C0  D0\n",
      "1  C1  D1 \n",
      "\n",
      "     A    B    C    D\n",
      "0   A0   B0  NaN  NaN\n",
      "1   A1   B1  NaN  NaN\n",
      "0  NaN  NaN   C0   D0\n",
      "1  NaN  NaN   C1   D1\n"
     ]
    }
   ],
   "source": [
    "df3 = make_df('AB', [0,1])\n",
    "df4 = make_df('CD', [0,1])\n",
    "\n",
    "print(df3, '\\n')\n",
    "print(df4, '\\n')\n",
    "\n",
    "print(pd.concat([df3, df4], axis = 0))"
   ]
  },
  {
   "cell_type": "code",
   "execution_count": 6,
   "metadata": {},
   "outputs": [
    {
     "name": "stdout",
     "output_type": "stream",
     "text": [
      "    A   B\n",
      "0  A0  B0\n",
      "1  A1  B1 \n",
      "\n",
      "    A   B\n",
      "0  A2  B2\n",
      "1  A3  B3 \n",
      "\n",
      "    A   B\n",
      "0  A0  B0\n",
      "1  A1  B1\n",
      "0  A2  B2\n",
      "1  A3  B3\n"
     ]
    }
   ],
   "source": [
    "\"\"\"\n",
    "    concate() Features\n",
    "\"\"\"\n",
    "\n",
    "# Case 1: Duplicate indices\n",
    "x = make_df('AB', [0,1])\n",
    "y = make_df('AB', [2,3])\n",
    "\n",
    "y.index = x.index\n",
    "\n",
    "print(x, '\\n')\n",
    "print(y, '\\n')\n",
    "\n",
    "print(pd.concat([x, y]))"
   ]
  },
  {
   "cell_type": "code",
   "execution_count": 11,
   "metadata": {},
   "outputs": [
    {
     "name": "stdout",
     "output_type": "stream",
     "text": [
      "ValueError:  Indexes have overlapping values: Int64Index([0, 1, 2], dtype='int64')\n"
     ]
    }
   ],
   "source": [
    "# Case 2: Catching duplications as errors\n",
    "\n",
    "try:\n",
    "    pd.concat([x,y], verify_integrity=True)\n",
    "    \n",
    "except ValueError as e:\n",
    "    print(\"ValueError: \", e)"
   ]
  },
  {
   "cell_type": "code",
   "execution_count": 13,
   "metadata": {},
   "outputs": [
    {
     "name": "stdout",
     "output_type": "stream",
     "text": [
      "     A   B   C    D\n",
      "0   A0  B0  C0  NaN\n",
      "1   A1  B1  C1  NaN\n",
      "2   A2  B2  C2  NaN\n",
      "3  NaN  B0  C0   D0\n",
      "4  NaN  B1  C1   D1\n",
      "5  NaN  B2  C2   D2\n"
     ]
    }
   ],
   "source": [
    "# Case 3: Ignore the index:\n",
    "\n",
    "print(pd.concat([x, y], ignore_index = True))"
   ]
  },
  {
   "cell_type": "code",
   "execution_count": 16,
   "metadata": {},
   "outputs": [
    {
     "name": "stdout",
     "output_type": "stream",
     "text": [
      "    A   B   C\n",
      "1  A1  B1  C1\n",
      "2  A2  B2  C2 \n",
      "\n",
      "    B   C   D\n",
      "3  B3  C3  D3\n",
      "4  B4  C4  D4 \n",
      "\n",
      "    B   C\n",
      "1  B1  C1\n",
      "2  B2  C2\n",
      "3  B3  C3\n",
      "4  B4  C4\n"
     ]
    }
   ],
   "source": [
    "\"\"\"\n",
    "    concat(): join options\n",
    "\"\"\"\n",
    "\n",
    "x = make_df('ABC', [1,2])\n",
    "y = make_df('BCD', [3,4])\n",
    "\n",
    "# default: outer join -> union\n",
    "\n",
    "print(x, '\\n')\n",
    "print(y, '\\n')\n",
    "\n",
    "print(pd.concat([x, y], join='inner'))"
   ]
  },
  {
   "cell_type": "code",
   "execution_count": 18,
   "metadata": {},
   "outputs": [
    {
     "name": "stdout",
     "output_type": "stream",
     "text": [
      "  employee        group\n",
      "0      Bob   Accounting\n",
      "1     Jake  Engineering\n",
      "2     Lisa  Engineering\n",
      "3      Sue           HR \n",
      "\n",
      "  employee  hire_date\n",
      "0     Lisa       2004\n",
      "1      Bob       2008\n",
      "2     Jake       2012\n",
      "3      Sue       2014\n"
     ]
    }
   ],
   "source": [
    "\"\"\"\n",
    "    Join operations\n",
    "\"\"\"\n",
    "\n",
    "# Prepare the two DataFrame objects\n",
    "df1 = pd.DataFrame({'employee': ['Bob', 'Jake', 'Lisa', 'Sue'],\n",
    "                   'group': ['Accounting', 'Engineering', 'Engineering', 'HR']})\n",
    "\n",
    "df2 = pd.DataFrame({'employee': ['Lisa', 'Bob', 'Jake', 'Sue'],\n",
    "                   'hire_date': [2004, 2008, 2012, 2014]})\n",
    "\n",
    "print(df1, '\\n')\n",
    "print(df2)"
   ]
  },
  {
   "cell_type": "code",
   "execution_count": 19,
   "metadata": {},
   "outputs": [
    {
     "name": "stdout",
     "output_type": "stream",
     "text": [
      "  employee        group  hire_date\n",
      "0      Bob   Accounting       2008\n",
      "1     Jake  Engineering       2012\n",
      "2     Lisa  Engineering       2004\n",
      "3      Sue           HR       2014\n"
     ]
    }
   ],
   "source": [
    "# One-to-one joins\n",
    "df3 = pd.merge(df1, df2)\n",
    "print(df3)p"
   ]
  },
  {
   "cell_type": "code",
   "execution_count": 21,
   "metadata": {},
   "outputs": [
    {
     "name": "stdout",
     "output_type": "stream",
     "text": [
      "  employee        group  hire_date\n",
      "0      Bob   Accounting       2008\n",
      "1     Jake  Engineering       2012\n",
      "2     Lisa  Engineering       2004\n",
      "3      Sue           HR       2014 \n",
      "\n",
      "         group supervisor\n",
      "0   Accounting      Carly\n",
      "1  Engineering      Guido\n",
      "2           HR      Steve \n",
      "\n",
      "  employee        group  hire_date supervisor\n",
      "0      Bob   Accounting       2008      Carly\n",
      "1     Jake  Engineering       2012      Guido\n",
      "2     Lisa  Engineering       2004      Guido\n",
      "3      Sue           HR       2014      Steve\n"
     ]
    }
   ],
   "source": [
    "# Many-to-one joins\n",
    "df4 = pd.DataFrame({'group': ['Accounting', 'Engineering', 'HR'],\n",
    "                   'supervisor': ['Carly', 'Guido', 'Steve']})\n",
    "print(df3, '\\n')\n",
    "print(df4, '\\n')\n",
    "\n",
    "print(pd.merge(df3, df4)) #df3 = Left, df = right "
   ]
  },
  {
   "cell_type": "code",
   "execution_count": 24,
   "metadata": {},
   "outputs": [
    {
     "name": "stdout",
     "output_type": "stream",
     "text": [
      "  employee        group\n",
      "0      Bob   Accounting\n",
      "1     Jake  Engineering\n",
      "2     Lisa  Engineering\n",
      "3      Sue           HR \n",
      "\n",
      "         group        skills\n",
      "0   Accounting          math\n",
      "1   Accounting  spreadsheets\n",
      "2  Engineering        coding\n",
      "3  Engineering         linux\n",
      "4           HR  spreadsheets\n",
      "5           HR   oranization \n",
      "\n",
      "  employee        group        skills\n",
      "0      Bob   Accounting          math\n",
      "1      Bob   Accounting  spreadsheets\n",
      "2     Jake  Engineering        coding\n",
      "3     Jake  Engineering         linux\n",
      "4     Lisa  Engineering        coding\n",
      "5     Lisa  Engineering         linux\n",
      "6      Sue           HR  spreadsheets\n",
      "7      Sue           HR   oranization\n"
     ]
    }
   ],
   "source": [
    "# Many-to-many joins\n",
    "\n",
    "df5 = pd.DataFrame({'group': ['Accounting', 'Accounting',\n",
    "                             'Engineering','Engineering',\n",
    "                             'HR', 'HR'],\n",
    "                   'skills': ['math', 'spreadsheets', 'coding',\n",
    "                             'linux', 'spreadsheets', 'oranization']})\n",
    "\n",
    "print(df1, '\\n')\n",
    "print(df5, '\\n')\n",
    "\n",
    "print(pd.merge(df1, df5))"
   ]
  },
  {
   "cell_type": "code",
   "execution_count": 26,
   "metadata": {},
   "outputs": [
    {
     "name": "stdout",
     "output_type": "stream",
     "text": [
      "  employee        group  age\n",
      "0      Bob   Accounting   37\n",
      "1     Jake  Engineering   20\n",
      "2     Lisa  Engineering   42\n",
      "3      Sue           HR   25 \n",
      "\n",
      "  employee  hire_date\n",
      "0     Lisa       2004\n",
      "1      Bob       2008\n",
      "2     Jake       2012\n",
      "3      Sue       2014 \n",
      "\n",
      "  employee        group  age\n",
      "0      Bob   Accounting   37\n",
      "1     Jake  Engineering   20\n",
      "2     Lisa  Engineering   42\n",
      "3      Sue           HR   25 \n",
      "\n",
      "  employee  hire_date\n",
      "0     Lisa       2004\n",
      "1      Bob       2008\n",
      "2     Jake       2012\n",
      "3      Sue       2014 \n",
      "\n",
      "  employee        group  age  hire_date\n",
      "0      Bob   Accounting   37       2008\n",
      "1     Jake  Engineering   20       2012\n",
      "2     Lisa  Engineering   42       2004\n",
      "3      Sue           HR   25       2014\n"
     ]
    }
   ],
   "source": [
    "# 'on' argument: use a common column as merge key\n",
    "\n",
    "print(df1, '\\n')\n",
    "print(df2, '\\n')\n",
    "\n",
    "df1['age'] = pd.Series([20, 42, 37, 25])\n",
    "df1['age'] = pd.Series([37, 20, 42, 25])\n",
    "\n",
    "print(df1, '\\n')\n",
    "print(df2, '\\n')\n",
    "\n",
    "print(pd.merge(df1, df2, on='employee'))"
   ]
  },
  {
   "cell_type": "code",
   "execution_count": 30,
   "metadata": {},
   "outputs": [
    {
     "name": "stdout",
     "output_type": "stream",
     "text": [
      "  employee        group  age\n",
      "0      Bob   Accounting   37\n",
      "1     Jake  Engineering   20\n",
      "2     Lisa  Engineering   42\n",
      "3      Sue           HR   25 \n",
      "\n",
      "   name  salary\n",
      "0   Bob   70000\n",
      "1  Jake   80000\n",
      "2  Lisa  120000\n",
      "3   Sue   90000 \n",
      "\n",
      "  employee        group  age  name  salary\n",
      "0      Bob   Accounting   37   Bob   70000\n",
      "1     Jake  Engineering   20  Jake   80000\n",
      "2     Lisa  Engineering   42  Lisa  120000\n",
      "3      Sue           HR   25   Sue   90000\n"
     ]
    }
   ],
   "source": [
    "# 'left on' and 'right_on' arguments:\n",
    "\n",
    "df3 = pd.DataFrame({'name': ['Bob', 'Jake', 'Lisa', 'Sue'],\n",
    "                   'salary': [70000, 80000, 120000, 90000]})\n",
    "\n",
    "print(df1, '\\n')\n",
    "print(df3, '\\n')\n",
    "\n",
    "print(pd.merge(df1, df3, left_on = 'employee', right_on = 'name'))"
   ]
  },
  {
   "cell_type": "code",
   "execution_count": 31,
   "metadata": {},
   "outputs": [],
   "source": [
    "# 'left_index' and 'right_index' arguments "
   ]
  },
  {
   "cell_type": "code",
   "execution_count": 36,
   "metadata": {},
   "outputs": [
    {
     "name": "stdout",
     "output_type": "stream",
     "text": [
      "                group  age\n",
      "employee                  \n",
      "Bob        Accounting   37\n",
      "Jake      Engineering   20\n",
      "Lisa      Engineering   42\n",
      "Sue                HR   25 \n",
      "\n",
      "          hire_date\n",
      "employee           \n",
      "Lisa           2004\n",
      "Bob            2008\n",
      "Jake           2012\n",
      "Sue            2014 \n",
      "\n",
      "                group  age  hire_date\n",
      "employee                             \n",
      "Bob        Accounting   37       2008\n",
      "Jake      Engineering   20       2012\n",
      "Lisa      Engineering   42       2004\n",
      "Sue                HR   25       2014\n"
     ]
    }
   ],
   "source": [
    "df1a = df1.set_index('employee')\n",
    "df2a = df2.set_index('employee')\n",
    "\n",
    "print(df1a, '\\n')\n",
    "print(df2a, '\\n')\n",
    "\n",
    "print(pd.merge(df1a, df2a, left_index = True, right_index = True))"
   ]
  }
 ],
 "metadata": {
  "kernelspec": {
   "display_name": "Python 3",
   "language": "python",
   "name": "python3"
  },
  "language_info": {
   "codemirror_mode": {
    "name": "ipython",
    "version": 3
   },
   "file_extension": ".py",
   "mimetype": "text/x-python",
   "name": "python",
   "nbconvert_exporter": "python",
   "pygments_lexer": "ipython3",
   "version": "3.8.3"
  }
 },
 "nbformat": 4,
 "nbformat_minor": 4
}
