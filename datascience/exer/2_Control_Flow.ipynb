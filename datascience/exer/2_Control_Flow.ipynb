{
 "cells": [
  {
   "cell_type": "code",
   "execution_count": 6,
   "metadata": {},
   "outputs": [
    {
     "name": "stdout",
     "output_type": "stream",
     "text": [
      "<class 'bool'>\n",
      "<class 'float'>\n"
     ]
    }
   ],
   "source": [
    "\"\"\"\n",
    "boolean values\n",
    "\"\"\"\n",
    "\n",
    "is_tested = False\n",
    "print(type(is_tested))\n",
    "\n",
    "a = 3.14\n",
    "print(type(a))"
   ]
  },
  {
   "cell_type": "code",
   "execution_count": 5,
   "metadata": {},
   "outputs": [
    {
     "name": "stdout",
     "output_type": "stream",
     "text": [
      "True\n",
      "True\n",
      "False\n"
     ]
    }
   ],
   "source": [
    "print(\"Yes\" == 'Yes')\n",
    "print((2>1) == (5 < 10))\n",
    "c = '2'\n",
    "d = 2\n",
    "print(c == d)"
   ]
  },
  {
   "cell_type": "code",
   "execution_count": 10,
   "metadata": {},
   "outputs": [
    {
     "data": {
      "text/plain": [
       "True"
      ]
     },
     "execution_count": 10,
     "metadata": {},
     "output_type": "execute_result"
    }
   ],
   "source": [
    "True or True\n",
    "True or False\n",
    "False or False\n",
    "1 < 2 or 3 < 1\n",
    "3 < 1 or 1 > 6\n",
    "1 == 1 or 1 < 2"
   ]
  },
  {
   "cell_type": "code",
   "execution_count": 12,
   "metadata": {},
   "outputs": [
    {
     "name": "stdout",
     "output_type": "stream",
     "text": [
      "말티즈.\n",
      "말티즈 새끼\n",
      "True\n"
     ]
    }
   ],
   "source": [
    "\"\"\"\n",
    "Conditional statements (if/elif/else)\n",
    "\"\"\"\n",
    "\n",
    "puppy = \"maltepoo\"\n",
    "is_yes = False\n",
    "age = 1\n",
    "\n",
    "if puppy == \"maltepoo\":\n",
    "    print(\"말티즈.\")\n",
    "    is_yes = True\n",
    "    \n",
    "    if age < 3:\n",
    "        print(\"말티즈 새끼\")\n",
    "        \n",
    "elif puppy == \"poodle\":\n",
    "    print(\"푸들.\")\n",
    "    is_yes = True\n",
    "    \n",
    "elif puppy == 'shitzu':\n",
    "    print(\"시츄.\")\n",
    "    is_yes = True\n",
    "    \n",
    "else:\n",
    "    print(\"말티푸.\")\n",
    "    is_yes = True\n",
    "    \n",
    "print(is_yes)\n"
   ]
  },
  {
   "cell_type": "code",
   "execution_count": 13,
   "metadata": {},
   "outputs": [
    {
     "ename": "NameError",
     "evalue": "name 'y' is not defined",
     "output_type": "error",
     "traceback": [
      "\u001b[1;31m---------------------------------------------------------------------------\u001b[0m",
      "\u001b[1;31mNameError\u001b[0m                                 Traceback (most recent call last)",
      "\u001b[1;32m<ipython-input-13-532e67efd44c>\u001b[0m in \u001b[0;36m<module>\u001b[1;34m\u001b[0m\n\u001b[0;32m      4\u001b[0m \u001b[1;33m\u001b[0m\u001b[0m\n\u001b[0;32m      5\u001b[0m \u001b[0mx\u001b[0m \u001b[1;33m=\u001b[0m \u001b[1;36m1\u001b[0m\u001b[1;33m\u001b[0m\u001b[1;33m\u001b[0m\u001b[0m\n\u001b[1;32m----> 6\u001b[1;33m \u001b[0mprint\u001b[0m\u001b[1;33m(\u001b[0m\u001b[0my\u001b[0m\u001b[1;33m)\u001b[0m\u001b[1;33m\u001b[0m\u001b[1;33m\u001b[0m\u001b[0m\n\u001b[0m",
      "\u001b[1;31mNameError\u001b[0m: name 'y' is not defined"
     ]
    }
   ],
   "source": [
    "\"\"\"\n",
    "Exception Handling\n",
    "\"\"\"\n",
    "\n",
    "x = 1\n",
    "\n",
    "try:\n",
    "    print(y)\n",
    "    print(x)\n",
    "    \n",
    "except:\n",
    "    print('[Error]')\n",
    "     \n",
    "print('continue')"
   ]
  }
 ],
 "metadata": {
  "kernelspec": {
   "display_name": "Python 3",
   "language": "python",
   "name": "python3"
  },
  "language_info": {
   "codemirror_mode": {
    "name": "ipython",
    "version": 3
   },
   "file_extension": ".py",
   "mimetype": "text/x-python",
   "name": "python",
   "nbconvert_exporter": "python",
   "pygments_lexer": "ipython3",
   "version": "3.8.3"
  }
 },
 "nbformat": 4,
 "nbformat_minor": 4
}
