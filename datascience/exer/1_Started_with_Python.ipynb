{
 "cells": [
  {
   "cell_type": "code",
   "execution_count": 2,
   "metadata": {},
   "outputs": [
    {
     "name": "stdout",
     "output_type": "stream",
     "text": [
      "My name isJin Pyo Kim\n"
     ]
    }
   ],
   "source": [
    "\"\"\"\n",
    "print() Function\n",
    "\"\"\"\n",
    "introduce = \"My name is\"\n",
    "name = \"Jin Pyo Kim\"\n",
    "print(introduce + name)"
   ]
  },
  {
   "cell_type": "code",
   "execution_count": 3,
   "metadata": {},
   "outputs": [
    {
     "name": "stdout",
     "output_type": "stream",
     "text": [
      "x =  1\n",
      "Address of x:  140704028374816\n",
      "x =  2\n",
      "Address of x:  140704028374848\n"
     ]
    }
   ],
   "source": [
    "\"\"\"\n",
    "variables\n",
    "\"\"\"\n",
    "\n",
    "user_name = \"Jin Pyo Kim\"\n",
    "user_id = 201655032\n",
    "user_email = \"kjp452@hs.ac.kr\"\n",
    "is_student = True\n",
    "\n",
    "x = 1\n",
    "print('x = ', x)\n",
    "print(\"Address of x: \", id(x))\n",
    "\n",
    "x = 2\n",
    "print('x = ', x)\n",
    "print(\"Address of x: \", id(x)) #할당"
   ]
  },
  {
   "cell_type": "code",
   "execution_count": 4,
   "metadata": {},
   "outputs": [
    {
     "name": "stdout",
     "output_type": "stream",
     "text": [
      "While there's life, there's hopeLeague of LegendsYoo Jae Suk\n"
     ]
    }
   ],
   "source": [
    "\"\"\"\n",
    "Data Types\n",
    "\"\"\"\n",
    "\n",
    "chairs = 5\n",
    "table = 1\n",
    "monitor = 1\n",
    "fans = 3                        #정수\n",
    "\n",
    "pi = 3.14\n",
    "kospi_index = 3125.76\n",
    "krw_usd_exchange = 1176.83     #실수\n",
    "\n",
    "favorite_motto = \"While there's life, there's hope\"\n",
    "favorite_game = \"League of Legends\"\n",
    "favorite_Celebrity = \"Yoo Jae Suk\"                     #문자열\n",
    "\n",
    "favorites = favorite_motto + favorite_game + favorite_Celebrity\n",
    "\n",
    "print(favorites)"
   ]
  },
  {
   "cell_type": "code",
   "execution_count": 7,
   "metadata": {},
   "outputs": [
    {
     "name": "stdout",
     "output_type": "stream",
     "text": [
      "40\n",
      "70\n",
      "2500\n",
      "7.5\n",
      "1\n",
      "25\n"
     ]
    }
   ],
   "source": [
    "\"\"\"\n",
    "산술 연산자\n",
    "\"\"\"\n",
    "\n",
    "result1 = 10 + 30\n",
    "result2 = 77 - 7\n",
    "result3 = 50 * 50\n",
    "result4 = 15 / 2\n",
    "result5 = 25 % 3\n",
    "result6 = 5 ** 2\n",
    "\n",
    "print(result1)\n",
    "print(result2)\n",
    "print(result3)\n",
    "print(result4)\n",
    "print(result5)\n",
    "print(result6)\n"
   ]
  },
  {
   "cell_type": "code",
   "execution_count": 9,
   "metadata": {},
   "outputs": [
    {
     "name": "stdout",
     "output_type": "stream",
     "text": [
      "25.0\n"
     ]
    }
   ],
   "source": [
    "\"\"\"\n",
    "plus-Equal Operator\n",
    "\"\"\"\n",
    "\n",
    "counter = 0\n",
    "counter += 10\n",
    "counter *= 3\n",
    "counter -= 5\n",
    "counter /= 5\n",
    "counter **= 2\n",
    "\n",
    "print(counter)"
   ]
  }
 ],
 "metadata": {
  "kernelspec": {
   "display_name": "Python 3",
   "language": "python",
   "name": "python3"
  },
  "language_info": {
   "codemirror_mode": {
    "name": "ipython",
    "version": 3
   },
   "file_extension": ".py",
   "mimetype": "text/x-python",
   "name": "python",
   "nbconvert_exporter": "python",
   "pygments_lexer": "ipython3",
   "version": "3.8.3"
  }
 },
 "nbformat": 4,
 "nbformat_minor": 4
}
