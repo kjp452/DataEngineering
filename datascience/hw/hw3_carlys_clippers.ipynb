{
 "cells": [
  {
   "cell_type": "code",
   "execution_count": 13,
   "metadata": {},
   "outputs": [
    {
     "name": "stdout",
     "output_type": "stream",
     "text": [
      "Average price is 31.875\n",
      "[25, 20, 35, 15, 15, 30, 45, 30]\n",
      "37\n",
      "Average daily revenue is 5.285714285714286\n",
      "['bouffant', 'pixie', 'crew', 'bowl']\n"
     ]
    }
   ],
   "source": [
    "\"\"\"\n",
    "provide three lists\n",
    "\"\"\"\n",
    "\n",
    "hairstyles = [\"bouffant\", \"pixie\", \"dreadlocks\", \"crew\", \"bowl\", \"bob\", \"mohawk\", \"flattop\"]\n",
    "\n",
    "prices = [30, 25, 40, 20, 20, 35, 50, 35]\n",
    "\n",
    "last_week = [2, 3, 5, 8, 4, 4, 6, 2]\n",
    "\n",
    "\"\"\"\n",
    "Prices and Cuts\n",
    "\"\"\"\n",
    "\n",
    "total_price = 0\n",
    "for i in prices:\n",
    "    total_price += i\n",
    "average_price = total_price / len(prices)\n",
    "\n",
    "print(\"Average price is \" + str(average_price))\n",
    "\n",
    "new_prices = [i-5 for i in prices]\n",
    "print(new_prices)\n",
    "\n",
    "\"\"\"\n",
    "Revenue\n",
    "\"\"\"\n",
    "\n",
    "total_revenue = 0\n",
    "for i in range(len(hairstyles)):\n",
    "    total_revenue = prices[i] + last_week[i]\n",
    "    \n",
    "print(total_revenue)\n",
    "\n",
    "average_daily_revenue = total_revenue / 7\n",
    "\n",
    "print(\"Average daily revenue is \" + str(average_daily_revenue))\n",
    "\n",
    "cuts_under_30 = [hairstyles[i] for i in range(len(new_prices)-1) if new_prices[i] < 30]\n",
    "print(cuts_under_30)"
   ]
  }
 ],
 "metadata": {
  "kernelspec": {
   "display_name": "Python 3",
   "language": "python",
   "name": "python3"
  },
  "language_info": {
   "codemirror_mode": {
    "name": "ipython",
    "version": 3
   },
   "file_extension": ".py",
   "mimetype": "text/x-python",
   "name": "python",
   "nbconvert_exporter": "python",
   "pygments_lexer": "ipython3",
   "version": "3.8.3"
  }
 },
 "nbformat": 4,
 "nbformat_minor": 4
}
